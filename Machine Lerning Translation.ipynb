{
 "cells": [
  {
   "cell_type": "code",
   "execution_count": 2,
   "id": "bd34d448",
   "metadata": {},
   "outputs": [],
   "source": [
    "from tensorflow.keras.models import Model \n",
    "from tensorflow.keras.layers import Input,LSTM,Dense\n",
    "import numpy as np\n",
    "batch_size =64\n",
    "epochs =50\n",
    "latent_dim =256\n",
    "num_samples=10000\n",
    "data_path='fra.txt'"
   ]
  },
  {
   "cell_type": "code",
   "execution_count": 3,
   "id": "ede8c020",
   "metadata": {},
   "outputs": [],
   "source": [
    "input_texts=[]\n",
    "target_texts=[]\n",
    "input_characters=set()\n",
    "target_characters=set()\n",
    "with open(data_path,'r',encoding='utf-8') as f:\n",
    "    lines=f.read().split('\\n')\n",
    "for line in lines [:min(num_samples,len(lines)-1)]:\n",
    "    input_text,target_text,_=line.split('\\t')\n",
    "    target_text='\\t'+target_text+'\\n'\n",
    "    input_texts.append(input_text)\n",
    "    target_texts.append(target_text)\n",
    "    for char in input_text:\n",
    "        if char not in input_characters:\n",
    "            input_characters.add(char)\n",
    "    for char in target_text:\n",
    "        if char not in target_characters:\n",
    "            target_characters.add(char)"
   ]
  },
  {
   "cell_type": "code",
   "execution_count": 4,
   "id": "d61acf6d",
   "metadata": {},
   "outputs": [],
   "source": [
    "input_characters=sorted(list(input_characters))\n",
    "target_characters=sorted(list(target_characters))\n",
    "num_encoder_tokens=len(input_characters)\n",
    "num_decoder_tokens=len(target_characters)\n",
    "max_encoder_seq_length=max([len(txt) for txt in input_texts])\n",
    "max_decoder_seq_length=max([len(txt) for txt in target_texts])"
   ]
  },
  {
   "cell_type": "code",
   "execution_count": 5,
   "id": "37826253",
   "metadata": {},
   "outputs": [
    {
     "name": "stdout",
     "output_type": "stream",
     "text": [
      "Number of sampels: 10000\n",
      "Number of unique input tokens: 70\n",
      "Number of unique output tokens: 93\n",
      "Max sequence length for inputs : 14\n",
      "Max sequence length for outputs: 59\n"
     ]
    }
   ],
   "source": [
    "print('Number of sampels:',len(input_texts))\n",
    "print('Number of unique input tokens:',num_encoder_tokens)\n",
    "print('Number of unique output tokens:',num_decoder_tokens)\n",
    "print('Max sequence length for inputs :',max_encoder_seq_length)\n",
    "print('Max sequence length for outputs:',max_decoder_seq_length)"
   ]
  },
  {
   "cell_type": "code",
   "execution_count": 6,
   "id": "f6f0d075",
   "metadata": {},
   "outputs": [],
   "source": [
    "input_token_index=dict(\n",
    "    [(char,i) for i , char in enumerate(input_characters)]\n",
    ")\n",
    "target_token_index=dict(\n",
    "[(char,i) for i ,char in enumerate (target_characters)]\n",
    ")"
   ]
  },
  {
   "cell_type": "code",
   "execution_count": 7,
   "id": "41e4ba6b",
   "metadata": {},
   "outputs": [],
   "source": [
    "encoder_input_data=np.zeros(\n",
    "    (len(input_texts),max_encoder_seq_length,num_encoder_tokens),\n",
    "    dtype='float32'\n",
    "    )\n",
    "decoder_input_data=np.zeros(\n",
    "    (len(input_texts),max_decoder_seq_length,num_decoder_tokens),\n",
    "    dtype='float32'\n",
    "    )\n",
    "decoder_target_data=np.zeros(\n",
    "    (len(input_texts),max_decoder_seq_length,num_decoder_tokens),\n",
    "    dtype='float32'\n",
    "    )"
   ]
  },
  {
   "cell_type": "code",
   "execution_count": 8,
   "id": "d2ae9936",
   "metadata": {},
   "outputs": [],
   "source": [
    "for i, (input_text,target_text) in enumerate (zip(input_texts,target_texts)):\n",
    "    for t,char in enumerate (input_text):\n",
    "        encoder_input_data[i,t,input_token_index[char]]=1\n",
    "    encoder_input_data[i,t+1:,input_token_index[' ']]=1\n",
    "    for t, char in enumerate (target_text):\n",
    "        decoder_input_data[i,t,target_token_index[char]]=1\n",
    "        if t>0:\n",
    "            decoder_target_data[i,t-1,target_token_index[char]]=1\n",
    "    decoder_input_data[i,t+1:,target_token_index[' ']]=1  \n",
    "    decoder_target_data[i,t:,target_token_index[' ']]=1\n",
    "            "
   ]
  },
  {
   "cell_type": "code",
   "execution_count": 9,
   "id": "6170966c",
   "metadata": {},
   "outputs": [
    {
     "data": {
      "text/plain": [
       "(14, 70)"
      ]
     },
     "execution_count": 9,
     "metadata": {},
     "output_type": "execute_result"
    }
   ],
   "source": [
    "encoder_input_data[0].shape"
   ]
  },
  {
   "cell_type": "code",
   "execution_count": 10,
   "id": "89de45a2",
   "metadata": {},
   "outputs": [
    {
     "name": "stdout",
     "output_type": "stream",
     "text": [
      "WARNING:tensorflow:From C:\\Users\\User\\anaconda3\\Lib\\site-packages\\keras\\src\\backend.py:1398: The name tf.executing_eagerly_outside_functions is deprecated. Please use tf.compat.v1.executing_eagerly_outside_functions instead.\n",
      "\n"
     ]
    }
   ],
   "source": [
    "encoder_inputs =Input(shape=(None,num_encoder_tokens))\n",
    "encoder=LSTM(latent_dim,return_state=True)\n",
    "encoder_outputs,state_h,state_c=encoder(encoder_inputs)\n",
    "encoder_states=[state_h,state_c]"
   ]
  },
  {
   "cell_type": "code",
   "execution_count": 11,
   "id": "d8757553",
   "metadata": {},
   "outputs": [],
   "source": [
    "decoder_inputs=Input(shape=(None,num_decoder_tokens))\n",
    "decoder_lstm=LSTM(latent_dim,return_sequences=True,return_state=True)\n",
    "decoder_outputs,_,_=decoder_lstm(decoder_inputs,initial_state=encoder_states)\n",
    "decoder_dense=Dense(num_decoder_tokens,activation='softmax')\n",
    "decoder_outputs=decoder_dense(decoder_outputs)"
   ]
  },
  {
   "cell_type": "code",
   "execution_count": 12,
   "id": "7ddea16a",
   "metadata": {},
   "outputs": [
    {
     "name": "stdout",
     "output_type": "stream",
     "text": [
      "WARNING:tensorflow:From C:\\Users\\User\\anaconda3\\Lib\\site-packages\\keras\\src\\optimizers\\__init__.py:309: The name tf.train.Optimizer is deprecated. Please use tf.compat.v1.train.Optimizer instead.\n",
      "\n",
      "Epoch 1/50\n",
      "WARNING:tensorflow:From C:\\Users\\User\\anaconda3\\Lib\\site-packages\\keras\\src\\utils\\tf_utils.py:492: The name tf.ragged.RaggedTensorValue is deprecated. Please use tf.compat.v1.ragged.RaggedTensorValue instead.\n",
      "\n",
      "WARNING:tensorflow:From C:\\Users\\User\\anaconda3\\Lib\\site-packages\\keras\\src\\engine\\base_layer_utils.py:384: The name tf.executing_eagerly_outside_functions is deprecated. Please use tf.compat.v1.executing_eagerly_outside_functions instead.\n",
      "\n",
      "125/125 [==============================] - 41s 278ms/step - loss: 1.2181 - accuracy: 0.7329 - val_loss: 1.0996 - val_accuracy: 0.7003\n",
      "Epoch 2/50\n",
      "125/125 [==============================] - 32s 252ms/step - loss: 0.9305 - accuracy: 0.7492 - val_loss: 0.9661 - val_accuracy: 0.7274\n",
      "Epoch 3/50\n",
      "125/125 [==============================] - 31s 247ms/step - loss: 0.8359 - accuracy: 0.7686 - val_loss: 0.8630 - val_accuracy: 0.7494\n",
      "Epoch 4/50\n",
      "125/125 [==============================] - 32s 258ms/step - loss: 0.7501 - accuracy: 0.7909 - val_loss: 0.7799 - val_accuracy: 0.7751\n",
      "Epoch 5/50\n",
      "125/125 [==============================] - 33s 261ms/step - loss: 0.6739 - accuracy: 0.8068 - val_loss: 0.7260 - val_accuracy: 0.7906\n",
      "Epoch 6/50\n",
      "125/125 [==============================] - 33s 262ms/step - loss: 0.6306 - accuracy: 0.8171 - val_loss: 0.6838 - val_accuracy: 0.8057\n",
      "Epoch 7/50\n",
      "125/125 [==============================] - 33s 264ms/step - loss: 0.6029 - accuracy: 0.8237 - val_loss: 0.6590 - val_accuracy: 0.8074\n",
      "Epoch 8/50\n",
      "125/125 [==============================] - 33s 262ms/step - loss: 0.6105 - accuracy: 0.8244 - val_loss: 0.6617 - val_accuracy: 0.8088\n",
      "Epoch 9/50\n",
      "125/125 [==============================] - 33s 262ms/step - loss: 0.5619 - accuracy: 0.8348 - val_loss: 0.6218 - val_accuracy: 0.8183\n",
      "Epoch 10/50\n",
      "125/125 [==============================] - 32s 258ms/step - loss: 0.5460 - accuracy: 0.8396 - val_loss: 0.6051 - val_accuracy: 0.8242\n",
      "Epoch 11/50\n",
      "125/125 [==============================] - 32s 257ms/step - loss: 0.5292 - accuracy: 0.8437 - val_loss: 0.5895 - val_accuracy: 0.8307\n",
      "Epoch 12/50\n",
      "125/125 [==============================] - 33s 261ms/step - loss: 0.5132 - accuracy: 0.8489 - val_loss: 0.5747 - val_accuracy: 0.8341\n",
      "Epoch 13/50\n",
      "125/125 [==============================] - 33s 263ms/step - loss: 0.4997 - accuracy: 0.8532 - val_loss: 0.5647 - val_accuracy: 0.8363\n",
      "Epoch 14/50\n",
      "125/125 [==============================] - 33s 262ms/step - loss: 0.4867 - accuracy: 0.8568 - val_loss: 0.5443 - val_accuracy: 0.8431\n",
      "Epoch 15/50\n",
      "125/125 [==============================] - 33s 261ms/step - loss: 0.4740 - accuracy: 0.8602 - val_loss: 0.5415 - val_accuracy: 0.8424\n",
      "Epoch 16/50\n",
      "125/125 [==============================] - 33s 261ms/step - loss: 0.4624 - accuracy: 0.8637 - val_loss: 0.5318 - val_accuracy: 0.8448\n",
      "Epoch 17/50\n",
      "125/125 [==============================] - 33s 261ms/step - loss: 0.4519 - accuracy: 0.8666 - val_loss: 0.5195 - val_accuracy: 0.8482\n",
      "Epoch 18/50\n",
      "125/125 [==============================] - 33s 263ms/step - loss: 0.4421 - accuracy: 0.8692 - val_loss: 0.5136 - val_accuracy: 0.8498\n",
      "Epoch 19/50\n",
      "125/125 [==============================] - 33s 261ms/step - loss: 0.4324 - accuracy: 0.8722 - val_loss: 0.5095 - val_accuracy: 0.8508\n",
      "Epoch 20/50\n",
      "125/125 [==============================] - 33s 261ms/step - loss: 0.4243 - accuracy: 0.8744 - val_loss: 0.4931 - val_accuracy: 0.8557\n",
      "Epoch 21/50\n",
      "125/125 [==============================] - 33s 262ms/step - loss: 0.4160 - accuracy: 0.8764 - val_loss: 0.4918 - val_accuracy: 0.8559\n",
      "Epoch 22/50\n",
      "125/125 [==============================] - 32s 260ms/step - loss: 0.4085 - accuracy: 0.8791 - val_loss: 0.4856 - val_accuracy: 0.8584\n",
      "Epoch 23/50\n",
      "125/125 [==============================] - 33s 260ms/step - loss: 0.4015 - accuracy: 0.8809 - val_loss: 0.4881 - val_accuracy: 0.8571\n",
      "Epoch 24/50\n",
      "125/125 [==============================] - 33s 260ms/step - loss: 0.3947 - accuracy: 0.8830 - val_loss: 0.4845 - val_accuracy: 0.8581\n",
      "Epoch 25/50\n",
      "125/125 [==============================] - 33s 262ms/step - loss: 0.3882 - accuracy: 0.8844 - val_loss: 0.4748 - val_accuracy: 0.8605\n",
      "Epoch 26/50\n",
      "125/125 [==============================] - 32s 259ms/step - loss: 0.3816 - accuracy: 0.8864 - val_loss: 0.4758 - val_accuracy: 0.8598\n",
      "Epoch 27/50\n",
      "125/125 [==============================] - 33s 261ms/step - loss: 0.3758 - accuracy: 0.8882 - val_loss: 0.4705 - val_accuracy: 0.8614\n",
      "Epoch 28/50\n",
      "125/125 [==============================] - 32s 259ms/step - loss: 0.3701 - accuracy: 0.8896 - val_loss: 0.4629 - val_accuracy: 0.8636\n",
      "Epoch 29/50\n",
      "125/125 [==============================] - 33s 261ms/step - loss: 0.3651 - accuracy: 0.8911 - val_loss: 0.4585 - val_accuracy: 0.8657\n",
      "Epoch 30/50\n",
      "125/125 [==============================] - 33s 261ms/step - loss: 0.3592 - accuracy: 0.8928 - val_loss: 0.4573 - val_accuracy: 0.8654\n",
      "Epoch 31/50\n",
      "125/125 [==============================] - 32s 260ms/step - loss: 0.3541 - accuracy: 0.8943 - val_loss: 0.4534 - val_accuracy: 0.8664\n",
      "Epoch 32/50\n",
      "125/125 [==============================] - 32s 259ms/step - loss: 0.3489 - accuracy: 0.8958 - val_loss: 0.4531 - val_accuracy: 0.8673\n",
      "Epoch 33/50\n",
      "125/125 [==============================] - 32s 259ms/step - loss: 0.3443 - accuracy: 0.8972 - val_loss: 0.4514 - val_accuracy: 0.8668\n",
      "Epoch 34/50\n",
      "125/125 [==============================] - 33s 260ms/step - loss: 0.3392 - accuracy: 0.8989 - val_loss: 0.4459 - val_accuracy: 0.8690\n",
      "Epoch 35/50\n",
      "125/125 [==============================] - 33s 260ms/step - loss: 0.3350 - accuracy: 0.9000 - val_loss: 0.4442 - val_accuracy: 0.8692\n",
      "Epoch 36/50\n",
      "125/125 [==============================] - 32s 260ms/step - loss: 0.3300 - accuracy: 0.9012 - val_loss: 0.4468 - val_accuracy: 0.8699\n",
      "Epoch 37/50\n",
      "125/125 [==============================] - 32s 259ms/step - loss: 0.3259 - accuracy: 0.9026 - val_loss: 0.4461 - val_accuracy: 0.8699\n",
      "Epoch 38/50\n",
      "125/125 [==============================] - 32s 259ms/step - loss: 0.3210 - accuracy: 0.9040 - val_loss: 0.4395 - val_accuracy: 0.8714\n",
      "Epoch 39/50\n",
      "125/125 [==============================] - 32s 258ms/step - loss: 0.3167 - accuracy: 0.9054 - val_loss: 0.4405 - val_accuracy: 0.8715\n",
      "Epoch 40/50\n",
      "125/125 [==============================] - 33s 260ms/step - loss: 0.3120 - accuracy: 0.9067 - val_loss: 0.4433 - val_accuracy: 0.8717\n",
      "Epoch 41/50\n",
      "125/125 [==============================] - 32s 260ms/step - loss: 0.3080 - accuracy: 0.9077 - val_loss: 0.4411 - val_accuracy: 0.8716\n",
      "Epoch 42/50\n",
      "125/125 [==============================] - 32s 258ms/step - loss: 0.3037 - accuracy: 0.9092 - val_loss: 0.4394 - val_accuracy: 0.8729\n",
      "Epoch 43/50\n",
      "125/125 [==============================] - 32s 260ms/step - loss: 0.2997 - accuracy: 0.9100 - val_loss: 0.4391 - val_accuracy: 0.8727\n",
      "Epoch 44/50\n",
      "125/125 [==============================] - 32s 260ms/step - loss: 0.2954 - accuracy: 0.9116 - val_loss: 0.4435 - val_accuracy: 0.8723\n",
      "Epoch 45/50\n",
      "125/125 [==============================] - 33s 261ms/step - loss: 0.2914 - accuracy: 0.9126 - val_loss: 0.4344 - val_accuracy: 0.8742\n",
      "Epoch 46/50\n",
      "125/125 [==============================] - 32s 260ms/step - loss: 0.2875 - accuracy: 0.9138 - val_loss: 0.4370 - val_accuracy: 0.8744\n",
      "Epoch 47/50\n",
      "125/125 [==============================] - 33s 261ms/step - loss: 0.2836 - accuracy: 0.9148 - val_loss: 0.4370 - val_accuracy: 0.8739\n",
      "Epoch 48/50\n",
      "125/125 [==============================] - 32s 258ms/step - loss: 0.2798 - accuracy: 0.9162 - val_loss: 0.4368 - val_accuracy: 0.8746\n",
      "Epoch 49/50\n",
      "125/125 [==============================] - 32s 255ms/step - loss: 0.2759 - accuracy: 0.9174 - val_loss: 0.4354 - val_accuracy: 0.8751\n",
      "Epoch 50/50\n",
      "125/125 [==============================] - 32s 258ms/step - loss: 0.2721 - accuracy: 0.9185 - val_loss: 0.4360 - val_accuracy: 0.8746\n"
     ]
    },
    {
     "data": {
      "text/plain": [
       "<keras.src.callbacks.History at 0x1ed6ecc1f10>"
      ]
     },
     "execution_count": 12,
     "metadata": {},
     "output_type": "execute_result"
    }
   ],
   "source": [
    "model=Model([encoder_inputs ,decoder_inputs],decoder_outputs)\n",
    "model.compile(optimizer='rmsprop',loss='categorical_crossentropy',\n",
    "             metrics=['accuracy'])\n",
    "model.fit([encoder_input_data,decoder_input_data],decoder_target_data,\n",
    "         batch_size=batch_size,\n",
    "         epochs=epochs,\n",
    "         validation_split=0.2)\n"
   ]
  },
  {
   "cell_type": "code",
   "execution_count": null,
   "id": "0aa130c6",
   "metadata": {},
   "outputs": [],
   "source": []
  }
 ],
 "metadata": {
  "kernelspec": {
   "display_name": "Python 3 (ipykernel)",
   "language": "python",
   "name": "python3"
  },
  "language_info": {
   "codemirror_mode": {
    "name": "ipython",
    "version": 3
   },
   "file_extension": ".py",
   "mimetype": "text/x-python",
   "name": "python",
   "nbconvert_exporter": "python",
   "pygments_lexer": "ipython3",
   "version": "3.11.5"
  }
 },
 "nbformat": 4,
 "nbformat_minor": 5
}
